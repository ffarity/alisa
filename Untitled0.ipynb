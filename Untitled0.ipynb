{
  "nbformat": 4,
  "nbformat_minor": 0,
  "metadata": {
    "colab": {
      "provenance": [],
      "authorship_tag": "ABX9TyMP9Nir8toYPg5Ug7es6//E",
      "include_colab_link": true
    },
    "kernelspec": {
      "name": "python3",
      "display_name": "Python 3"
    },
    "language_info": {
      "name": "python"
    }
  },
  "cells": [
    {
      "cell_type": "markdown",
      "metadata": {
        "id": "view-in-github",
        "colab_type": "text"
      },
      "source": [
        "<a href=\"https://colab.research.google.com/github/ffarity/alisa/blob/main/Untitled0.ipynb\" target=\"_parent\"><img src=\"https://colab.research.google.com/assets/colab-badge.svg\" alt=\"Open In Colab\"/></a>"
      ]
    },
    {
      "cell_type": "code",
      "execution_count": null,
      "metadata": {
        "id": "2f8cLgCI5oCU"
      },
      "outputs": [],
      "source": [
        "! python3 -m pip install pyTelegramBotAPI\n",
        "! python3 -m pip install telebot\n",
        "\n",
        "import telebot\n",
        "import nltk\n",
        "nltk.download('punkt')\n",
        "nltk.download('wordnet')\n",
        "nltk.download('averaged_perceptron_tagger')\n",
        "\n",
        "BOT_CONFIG = telebot.TeleBot('13039256631:CAKShQ5NzfyZOfuGj30uIslbzYXrTg0ZLZI')\n",
        "\n",
        "context = {}\n",
        "\n",
        "@BOT_CONFIG.message_handler(commands=['start'])\n",
        "def start_message(message):\n",
        "    context.clear()\n",
        "    BOT_CONFIG.send_message(message.chat.id, 'Здравствуйте! Как вас зовут?')\n",
        "\n",
        "@BOT_CONFIG.message_handler(content_types=['text'])\n",
        "def send_text(message):\n",
        "    response = process_message(message.text, context)\n",
        "    BOT_CONFIG.send_message(message.chat.id, response)\n",
        "\n",
        "def process_message(message, context):\n",
        "    words = nltk.word_tokenize(message)\n",
        "    tagged = nltk.pos_tag(words)\n",
        "\n",
        "    names = [word.lower() for (word, tag) in tagged if tag in ['NN', 'NNS']]\n",
        "    if 'name' not in context:\n",
        "        if names:\n",
        "            context['name'] = names[0]\n",
        "            response = 'Привет, {}! Какую вы хотите пиццу? Большую, среднюю или маленькую?'.format(context['name'])\n",
        "        else:\n",
        "            response = 'Как вас зовут?'\n",
        "    elif 'pizza' not in context:\n",
        "        if 'большую' in message.lower():\n",
        "            context['pizza'] = 'большую'\n",
        "            response = 'Как вы будете оплачивать? Наличные или карта?'\n",
        "        elif 'среднюю' in message.lower():\n",
        "            context['pizza'] = 'среднюю'\n",
        "            response = 'Как вы будете оплачивать? Наличные или карта?'\n",
        "        elif 'маленькую' in message.lower():\n",
        "            context['pizza'] = 'маленькую'\n",
        "            response = 'Как вы будете оплачивать? Наличные или карта?'\n",
        "        else:\n",
        "            response = 'Какую вы хотите пиццу? Большую, среднюю или маленькую?'\n",
        "    elif 'oplata' not in context:\n",
        "      if 'наличные' in message.lower():\n",
        "            context['oplata'] = 'наличные'\n",
        "            response = 'На какой адрес вам её доставить?'\n",
        "      elif 'карта' in message.lower():\n",
        "            context['oplata'] = 'карта'\n",
        "            response = 'На какой адрес вам её доставить?'\n",
        "      else:\n",
        "            response = 'Как вы будете оплачивать? Наличные или карта?'\n",
        "    elif 'address' not in context:\n",
        "        context['address'] = message\n",
        "        response = 'Вы хотите {}, оплата - {}, доставить по адресу {}?'.format(\n",
        "context['pizza'], context['oplata'], context['address'])\n",
        "    else:\n",
        "        response = 'Спасибо за заказ!'\n",
        "    return response\n",
        "\n",
        "BOT_CONFIG.polling()\n"
      ]
    }
  ]
}